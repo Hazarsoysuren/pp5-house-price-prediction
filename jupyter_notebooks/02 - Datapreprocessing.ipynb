{
 "cells": [
  {
   "cell_type": "markdown",
   "metadata": {
    "id": "0aStgWSO0E0E"
   },
   "source": [
    "# Churned Customer Study Notebook"
   ]
  },
  {
   "cell_type": "markdown",
   "metadata": {
    "id": "1eLEkw5O0ECa"
   },
   "source": [
    "## Objectives\n",
    "\n",
    "*   Answer business requirement 1: \n",
    "    * The client is interested to understand the patterns of the predictions, so the client can understand the future prices.\n",
    "\n",
    "## Inputs\n",
    "\n",
    "* /workspace/pp5-house-price-prediction/housing.csv\n",
    "\n",
    "## Outputs\n",
    "\n",
    "* Show diffrent views of statistics\n",
    "\n",
    "\n",
    "\n",
    "\n"
   ]
  },
  {
   "cell_type": "markdown",
   "metadata": {
    "id": "9uWZXH9LwoQg"
   },
   "source": [
    "---"
   ]
  },
  {
   "cell_type": "markdown",
   "metadata": {},
   "source": [
    "# Set directories for data"
   ]
  },
  {
   "cell_type": "markdown",
   "metadata": {},
   "source": [
    "Import libraries"
   ]
  },
  {
   "cell_type": "code",
   "execution_count": 1,
   "metadata": {},
   "outputs": [
    {
     "name": "stdout",
     "output_type": "stream",
     "text": [
      "Note: you may need to restart the kernel to use updated packages.\n",
      "Requirements installed.\n"
     ]
    }
   ],
   "source": [
    "%pip install -r /workspace/pp5-cats-vs-dogs/requirements.txt 2>/dev/null | grep -v 'Requirement already satisfied'\n",
    "print('Requirements installed.')"
   ]
  },
  {
   "cell_type": "code",
   "execution_count": 5,
   "metadata": {},
   "outputs": [],
   "source": [
    "import os\n",
    "import numpy as np\n",
    "import seaborn as sns\n",
    "import matplotlib.pyplot as plt\n",
    "import pandas as pd\n"
   ]
  },
  {
   "cell_type": "markdown",
   "metadata": {},
   "source": [
    "## Set working directory\n",
    "Set working directory to root project folder"
   ]
  },
  {
   "cell_type": "code",
   "execution_count": 6,
   "metadata": {},
   "outputs": [
    {
     "name": "stdout",
     "output_type": "stream",
     "text": [
      "Current folder: /workspace/pp5-house-price-prediction/jupyter_notebooks\n",
      "New folder: /workspace/pp5-house-price-prediction\n"
     ]
    }
   ],
   "source": [
    "current_dir = os.getcwd()\n",
    "print('Current folder: ' + current_dir)\n",
    "os.chdir(os.path.dirname(current_dir))\n",
    "root_dir = os.getcwd()\n",
    "print('New folder: ' + root_dir)\n"
   ]
  },
  {
   "cell_type": "markdown",
   "metadata": {},
   "source": [
    "Confirm the new current directory"
   ]
  },
  {
   "cell_type": "code",
   "execution_count": 13,
   "metadata": {},
   "outputs": [
    {
     "name": "stdout",
     "output_type": "stream",
     "text": [
      "   longitude  latitude  housing_median_age  total_rooms  total_bedrooms  \\\n",
      "0    -122.23     37.88                41.0        880.0           129.0   \n",
      "1    -122.22     37.86                21.0       7099.0          1106.0   \n",
      "2    -122.24     37.85                52.0       1467.0           190.0   \n",
      "3    -122.25     37.85                52.0       1274.0           235.0   \n",
      "4    -122.25     37.85                52.0       1627.0           280.0   \n",
      "\n",
      "   population  households  median_income  median_house_value ocean_proximity  \n",
      "0       322.0       126.0         8.3252            452600.0        NEAR BAY  \n",
      "1      2401.0      1138.0         8.3014            358500.0        NEAR BAY  \n",
      "2       496.0       177.0         7.2574            352100.0        NEAR BAY  \n",
      "3       558.0       219.0         5.6431            341300.0        NEAR BAY  \n",
      "4       565.0       259.0         3.8462            342200.0        NEAR BAY  \n"
     ]
    }
   ],
   "source": [
    "import pandas as pd\n",
    "\n",
    "# Absolute path\n",
    "data = pd.read_csv('/workspace/pp5-house-price-prediction/housing.csv')\n",
    "\n",
    "# Display the first few rows of the dataset\n",
    "print(data.head())"
   ]
  },
  {
   "cell_type": "markdown",
   "metadata": {
    "id": "_tdAGw4Zwssu"
   },
   "source": [
    "---"
   ]
  },
  {
   "cell_type": "markdown",
   "metadata": {
    "id": "t2oPUd1K_qCr"
   },
   "source": [
    "# Load Data"
   ]
  },
  {
   "cell_type": "code",
   "execution_count": null,
   "metadata": {
    "colab": {
     "base_uri": "https://localhost:8080/"
    },
    "id": "oqqga261_w4N",
    "outputId": "a936deda-749e-4926-c6a0-c857edfb43ae"
   },
   "outputs": [],
   "source": [
    "import pandas as pd\n",
    "df = (pd.read_csv(\"outputs/datasets/collection/TelcoCustomerChurn.csv\")\n",
    "    .drop(['customerID'], axis=1)\n",
    "    )\n",
    "df.head(3)"
   ]
  },
  {
   "cell_type": "markdown",
   "metadata": {
    "id": "xsBHpBFJ0ZFa"
   },
   "source": [
    "# Data Exploration"
   ]
  },
  {
   "cell_type": "markdown",
   "metadata": {},
   "source": [
    "We are interested to get more familiar with the dataset, check variable type and distribution, missing levels and what these variables mean in a business context"
   ]
  },
  {
   "cell_type": "code",
   "execution_count": null,
   "metadata": {
    "id": "ncii4qR90aS1"
   },
   "outputs": [],
   "source": [
    "from ydata_profiling import ProfileReport\n",
    "pandas_report = ProfileReport(df=df, minimal=True)\n",
    "pandas_report.to_notebook_iframe()"
   ]
  },
  {
   "cell_type": "markdown",
   "metadata": {
    "id": "DceTmVKMzHZV"
   },
   "source": [
    "# Correlation Study"
   ]
  },
  {
   "cell_type": "code",
   "execution_count": null,
   "metadata": {
    "colab": {
     "base_uri": "https://localhost:8080/",
     "height": 214
    },
    "id": "nLKtmzubuK2Z",
    "outputId": "a2698dac-c7f4-4d0f-febc-aca1c3cd7e4b"
   },
   "outputs": [],
   "source": [
    "from feature_engine.encoding import OneHotEncoder\n",
    "encoder = OneHotEncoder(variables=df.columns[df.dtypes=='object'].to_list(), drop_last=False)\n",
    "df_ohe = encoder.fit_transform(df)\n",
    "print(df_ohe.shape)\n",
    "df_ohe.head(3)"
   ]
  },
  {
   "cell_type": "markdown",
   "metadata": {
    "id": "6a7e-64OzeP0"
   },
   "source": [
    "We use `.corr()` for `spearman` and `pearson` methods, and investigate the top 10 correlations\n",
    "* We know this command returns a pandas series and the first item is the correlation between Churn and Churn, which happens to be 1, so we exclude that with `[1:]`\n",
    "* We sort values considering the absolute value, by setting `key=abs`"
   ]
  },
  {
   "cell_type": "code",
   "execution_count": null,
   "metadata": {
    "colab": {
     "base_uri": "https://localhost:8080/"
    },
    "id": "MPn8xl6N_sug",
    "outputId": "fed347e6-dfd9-4273-caf4-2fa1cea83935"
   },
   "outputs": [],
   "source": [
    "corr_spearman = df_ohe.corr(method='spearman')['Churn'].sort_values(key=abs, ascending=False)[1:].head(10)\n",
    "corr_spearman"
   ]
  },
  {
   "cell_type": "markdown",
   "metadata": {
    "id": "-rIu67nO0LDs"
   },
   "source": [
    "We do the same for `pearson`"
   ]
  },
  {
   "cell_type": "code",
   "execution_count": null,
   "metadata": {
    "colab": {
     "base_uri": "https://localhost:8080/"
    },
    "id": "uop6Vvk4wrF0",
    "outputId": "7e42c25a-8595-4241-ea9b-c945e7369819"
   },
   "outputs": [],
   "source": [
    "corr_pearson = df_ohe.corr(method='pearson')['Churn'].sort_values(key=abs, ascending=False)[1:].head(10)\n",
    "corr_pearson"
   ]
  },
  {
   "cell_type": "markdown",
   "metadata": {
    "id": "KHrTrQYO0px_"
   },
   "source": [
    "For both methods, we notice weak or moderate levels of correlation between Churn and a given variable. \n",
    "* Ideally, we pursue strong correlation levels. However, this is not always possible.\n",
    "\n",
    "We will consider the top five correlation levels at `df_ohe` and will study the associated variables at `df`"
   ]
  },
  {
   "cell_type": "code",
   "execution_count": null,
   "metadata": {
    "colab": {
     "base_uri": "https://localhost:8080/"
    },
    "id": "A-5y4MY71Nk5",
    "outputId": "fe686228-8176-4310-e538-b6e4c7100bdf"
   },
   "outputs": [],
   "source": [
    "top_n = 5\n",
    "set(corr_pearson[:top_n].index.to_list() + corr_spearman[:top_n].index.to_list())"
   ]
  },
  {
   "cell_type": "markdown",
   "metadata": {
    "id": "0vz-wC9e2I-z"
   },
   "source": [
    "Therefore we are studying at df the following variables. We will investigate if:\n",
    "* A churned customer typically has a month-to-month contract.\n",
    "* A churned customer typically has fiber optic.\n",
    "* A churned customer typically doesn't have tech support.\n",
    "* A churned customer doesn't have online security.\n",
    "* A churned customer typically has low tenure levels."
   ]
  },
  {
   "cell_type": "code",
   "execution_count": null,
   "metadata": {
    "colab": {
     "base_uri": "https://localhost:8080/"
    },
    "id": "iHKRE6E32NPv",
    "outputId": "39ab0829-d47b-4c62-e7e2-859574080737"
   },
   "outputs": [],
   "source": [
    "vars_to_study = ['Contract', 'InternetService', 'OnlineSecurity', 'TechSupport', 'tenure']\n",
    "vars_to_study"
   ]
  },
  {
   "cell_type": "markdown",
   "metadata": {
    "id": "IV2d12vC0Puq"
   },
   "source": [
    "# EDA on selected variables"
   ]
  },
  {
   "cell_type": "code",
   "execution_count": null,
   "metadata": {
    "colab": {
     "base_uri": "https://localhost:8080/",
     "height": 419
    },
    "id": "wpIgK8rxAbdR",
    "outputId": "e11c7684-df93-4e53-b8e4-dd287c4ce915"
   },
   "outputs": [],
   "source": [
    "df_eda = df.filter(vars_to_study + ['Churn'])\n",
    "df_eda.head(3)"
   ]
  },
  {
   "cell_type": "markdown",
   "metadata": {
    "id": "y7NNXfA10mx2"
   },
   "source": [
    "## Variables Distribution by Churn"
   ]
  },
  {
   "cell_type": "markdown",
   "metadata": {
    "id": "GIITMZ-3AGoY"
   },
   "source": [
    "We plot the distribution (numerical and categorical) coloured by Churn"
   ]
  },
  {
   "cell_type": "code",
   "execution_count": null,
   "metadata": {
    "id": "ensdFklI3Vbn"
   },
   "outputs": [],
   "source": [
    "import matplotlib.pyplot as plt\n",
    "import seaborn as sns\n",
    "sns.set_style('whitegrid')\n",
    "\n",
    "\n",
    "def plot_categorical(df, col, target_var):\n",
    "\n",
    "    plt.figure(figsize=(12, 5))\n",
    "    sns.countplot(data=df, x=col, hue=target_var, order=df[col].value_counts().index)\n",
    "    plt.xticks(rotation=90)\n",
    "    plt.title(f\"{col}\", fontsize=20, y=1.05)\n",
    "    plt.show()\n",
    "\n",
    "\n",
    "def plot_numerical(df, col, target_var):\n",
    "    plt.figure(figsize=(8, 5))\n",
    "    sns.histplot(data=df, x=col, hue=target_var, kde=True, element=\"step\")\n",
    "    plt.title(f\"{col}\", fontsize=20, y=1.05)\n",
    "    plt.show()\n",
    "\n",
    "\n",
    "target_var = 'Churn'\n",
    "for col in vars_to_study:\n",
    "    if df_eda[col].dtype == 'object':\n",
    "        plot_categorical(df_eda, col, target_var)\n",
    "        print(\"\\n\\n\")\n",
    "    else:\n",
    "        plot_numerical(df_eda, col, target_var)\n",
    "        print(\"\\n\\n\")\n"
   ]
  },
  {
   "cell_type": "markdown",
   "metadata": {
    "id": "qH46EnLZAfYH"
   },
   "source": [
    "---"
   ]
  },
  {
   "cell_type": "markdown",
   "metadata": {
    "id": "CopCR3yj0pbY"
   },
   "source": [
    "## Parallel Plot"
   ]
  },
  {
   "cell_type": "markdown",
   "metadata": {
    "id": "bypwzlCw_Ffg"
   },
   "source": [
    "Create a separate DataFrame and transform `tenure` (numerical) into bins (categorical) for visualising at `parallel_categories()` plot\n"
   ]
  },
  {
   "cell_type": "code",
   "execution_count": null,
   "metadata": {
    "colab": {
     "base_uri": "https://localhost:8080/",
     "height": 204
    },
    "id": "ZMm3x71j_Ego",
    "outputId": "4d1e53d9-4bc4-496d-d189-2fdd771dcf62"
   },
   "outputs": [],
   "source": [
    "from feature_engine.discretisation import ArbitraryDiscretiser\n",
    "import numpy as np\n",
    "tenure_map = [-np.Inf, 6, 12, 18, 24, np.Inf]\n",
    "disc = ArbitraryDiscretiser(binning_dict={'tenure': tenure_map})\n",
    "df_parallel = disc.fit_transform(df_eda)\n",
    "df_parallel.head()"
   ]
  },
  {
   "cell_type": "code",
   "execution_count": null,
   "metadata": {},
   "outputs": [],
   "source": [
    "disc.binner_dict_['tenure']"
   ]
  },
  {
   "cell_type": "markdown",
   "metadata": {
    "id": "A8SOHbD6QT-L"
   },
   "source": [
    "Create a map to replace the `tenure` variable with more informative levels."
   ]
  },
  {
   "cell_type": "code",
   "execution_count": null,
   "metadata": {
    "colab": {
     "base_uri": "https://localhost:8080/"
    },
    "id": "9s3W0esgPBng",
    "outputId": "006a746e-3989-4559-ca04-2b4d0c445309"
   },
   "outputs": [],
   "source": [
    "n_classes = len(tenure_map) - 1\n",
    "classes_ranges = disc.binner_dict_['tenure'][1:-1]\n",
    "\n",
    "labels_map = {}\n",
    "for n in range(0, n_classes):\n",
    "    if n == 0:\n",
    "        labels_map[n] = f\"<{classes_ranges[0]}\"\n",
    "    elif n == n_classes-1:\n",
    "        labels_map[n] = f\"+{classes_ranges[-1]}\"\n",
    "    else:\n",
    "        labels_map[n] = f\"{classes_ranges[n-1]} to {classes_ranges[n]}\"\n",
    "\n",
    "labels_map\n"
   ]
  },
  {
   "cell_type": "markdown",
   "metadata": {
    "id": "Q7nvRC9uQhag"
   },
   "source": [
    "Replace using `.replace()`"
   ]
  },
  {
   "cell_type": "code",
   "execution_count": null,
   "metadata": {
    "colab": {
     "base_uri": "https://localhost:8080/",
     "height": 204
    },
    "id": "oGrZNt6I_i3o",
    "outputId": "2ec3484b-05a2-4639-dba3-584282405668"
   },
   "outputs": [],
   "source": [
    "df_parallel['tenure'] = df_parallel['tenure'].replace(labels_map)\n",
    "df_parallel.head()"
   ]
  },
  {
   "cell_type": "markdown",
   "metadata": {
    "id": "VgYQ30JXQxBR"
   },
   "source": [
    "Creates multi-dimensional categorical data plot"
   ]
  },
  {
   "cell_type": "code",
   "execution_count": null,
   "metadata": {
    "colab": {
     "base_uri": "https://localhost:8080/",
     "height": 542
    },
    "id": "XpjcTS4XAbgO",
    "outputId": "be219931-6003-4e74-e67b-3254b763e596"
   },
   "outputs": [],
   "source": [
    "import plotly.express as px\n",
    "fig = px.parallel_categories(df_parallel, color=\"Churn\")\n",
    "fig.show(renderer='jupyterlab')"
   ]
  },
  {
   "cell_type": "markdown",
   "metadata": {
    "id": "ua0-YwyMCtDy"
   },
   "source": [
    "---"
   ]
  },
  {
   "cell_type": "markdown",
   "metadata": {
    "id": "6jkAa1rpCLbY"
   },
   "source": [
    "# Conclusions and Next steps"
   ]
  },
  {
   "cell_type": "markdown",
   "metadata": {
    "id": "YX7YiPhWCNmc"
   },
   "source": [
    "The correlations and plots interpretation converge. \n",
    "* A churned customer typically has a month-to-month contract.\n",
    "* A churned customer typically has fiber optic.\n",
    "* A churned customer typically doesn't have tech support.\n",
    "* A churned customer doesn't have online security.\n",
    "* A churned customer typically has low tenure levels."
   ]
  },
  {
   "cell_type": "markdown",
   "metadata": {
    "id": "vVOqV5ADZjD1"
   },
   "source": [
    "---"
   ]
  },
  {
   "cell_type": "markdown",
   "metadata": {
    "id": "5C9ptflZZjrI"
   },
   "source": [
    "Well done! You generated code that answers business requirement 1 and can be used to build Streamlit App\n",
    "* In this notebook, we are not pushing any file to the repo.\n",
    "* Clear the cell's outputs before moving on!"
   ]
  }
 ],
 "metadata": {
  "accelerator": "GPU",
  "colab": {
   "name": "Data Practitioner Jupyter Notebook.ipynb",
   "provenance": []
  },
  "kernelspec": {
   "display_name": "3.8.18",
   "language": "python",
   "name": "python3"
  },
  "language_info": {
   "codemirror_mode": {
    "name": "ipython",
    "version": 3
   },
   "file_extension": ".py",
   "mimetype": "text/x-python",
   "name": "python",
   "nbconvert_exporter": "python",
   "pygments_lexer": "ipython3",
   "version": "3.8.18"
  },
  "orig_nbformat": 2
 },
 "nbformat": 4,
 "nbformat_minor": 2
}
